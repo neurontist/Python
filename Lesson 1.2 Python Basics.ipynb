{
 "cells": [
  {
   "cell_type": "markdown",
   "metadata": {},
   "source": [
    "# Lesson 1.2: Python Basics\n",
    "## Topics Covered:\n",
    "- Syntax and Semantics\n",
    "- Variables and Data Types\n",
    "- Basic Operators (Arithmetic, Comparison, Logical)\n"
   ]
  },
  {
   "cell_type": "markdown",
   "metadata": {},
   "source": [
    "## 1. Syntax and Semantics\n",
    "\n",
    "**Question 1:** Write a Python program to print \"Hello, World!\"."
   ]
  },
  {
   "cell_type": "code",
   "execution_count": 1,
   "metadata": {},
   "outputs": [
    {
     "name": "stdout",
     "output_type": "stream",
     "text": [
      "Hello World\n"
     ]
    }
   ],
   "source": [
    "# Your code here\n",
    "print(\"Hello World\")"
   ]
  },
  {
   "cell_type": "markdown",
   "metadata": {},
   "source": [
    "**Question 2:** Write a Python program that takes a user input and prints it."
   ]
  },
  {
   "cell_type": "code",
   "execution_count": 2,
   "metadata": {},
   "outputs": [
    {
     "name": "stdout",
     "output_type": "stream",
     "text": [
      "Hello from input\n"
     ]
    }
   ],
   "source": [
    "# Your code here\n",
    "user = input(\"Enter your input: \")\n",
    "print(user)"
   ]
  },
  {
   "cell_type": "markdown",
   "metadata": {},
   "source": [
    "**Question 3:** Write a Python program to check if a number is positive, negative, or zero."
   ]
  },
  {
   "cell_type": "code",
   "execution_count": 4,
   "metadata": {},
   "outputs": [
    {
     "name": "stdout",
     "output_type": "stream",
     "text": [
      "Zero\n"
     ]
    }
   ],
   "source": [
    "# Your code here\n",
    "num = int(input(\"Enter number: \"))\n",
    "\n",
    "if num<0:\n",
    "    print(\"Negative\")\n",
    "elif num>0:\n",
    "    print(\"Positive\")\n",
    "else:\n",
    "    print(\"Zero\")"
   ]
  },
  {
   "cell_type": "markdown",
   "metadata": {},
   "source": [
    "**Question 4:** Write a Python program to find the largest of three numbers."
   ]
  },
  {
   "cell_type": "code",
   "execution_count": 5,
   "metadata": {},
   "outputs": [
    {
     "name": "stdout",
     "output_type": "stream",
     "text": [
      "10 is largest\n"
     ]
    }
   ],
   "source": [
    "# Your code here\n",
    "num1 = 9; num2 = -1; num3 = 10\n",
    "if (num1>num2) and (num1>num3):\n",
    "    print(f\"{num1} is largest\")\n",
    "elif (num2>num1) and (num2>num3):\n",
    "    print(f\"{num2} is largest\")\n",
    "else:\n",
    "    print(f\"{num3} is largest\")"
   ]
  },
  {
   "cell_type": "markdown",
   "metadata": {},
   "source": [
    "**Question 5:** Write a Python program to calculate the factorial of a number."
   ]
  },
  {
   "cell_type": "code",
   "execution_count": 28,
   "metadata": {},
   "outputs": [
    {
     "name": "stdout",
     "output_type": "stream",
     "text": [
      "120 is the factorial\n"
     ]
    }
   ],
   "source": [
    "# Your code here\n",
    "def fact(num):\n",
    "    if num < 1:\n",
    "        return 1\n",
    "    return num * fact(num-1)\n",
    "\n",
    "num = int(input(\"Enter number: \"))\n",
    "\n",
    "print(f\"{fact(num)} is the factorial\")\n"
   ]
  },
  {
   "cell_type": "markdown",
   "metadata": {},
   "source": [
    "## 2. Variables and Data Types\n",
    "\n",
    "**Question 6:** Create variables of different data types: integer, float, string, and boolean. Print their values and types."
   ]
  },
  {
   "cell_type": "code",
   "execution_count": 9,
   "metadata": {},
   "outputs": [
    {
     "name": "stdout",
     "output_type": "stream",
     "text": [
      "100 <class 'int'>\n",
      "12.5 <class 'float'>\n",
      "String <class 'str'>\n",
      "True <class 'bool'>\n"
     ]
    }
   ],
   "source": [
    "# Your code here\n",
    "var1 = 100\n",
    "var2 = 12.5\n",
    "var3 = \"String\"\n",
    "var4 = True\n",
    "\n",
    "print(var1, type(var1))\n",
    "print(var2, type(var2))\n",
    "print(var3, type(var3))\n",
    "print(var4, type(var4))"
   ]
  },
  {
   "cell_type": "markdown",
   "metadata": {},
   "source": [
    "**Question 7:** Write a Python program to swap the values of two variables."
   ]
  },
  {
   "cell_type": "code",
   "execution_count": 12,
   "metadata": {},
   "outputs": [
    {
     "name": "stdout",
     "output_type": "stream",
     "text": [
      "=== Before ===\n",
      "var1  A\n",
      "var2  B\n",
      "=== After ===\n",
      "var1  B\n",
      "var2  A\n"
     ]
    }
   ],
   "source": [
    "# Your code here\n",
    "var1 = 'A'\n",
    "var2 = 'B'\n",
    "\n",
    "temp = ''\n",
    "\n",
    "\n",
    "print(\"=== Before ===\")\n",
    "print(\"var1 \",var1)\n",
    "print(\"var2 \",var2)\n",
    "\n",
    "temp = var1\n",
    "var1 = var2\n",
    "var2 = temp\n",
    "\n",
    "\n",
    "print(\"=== After ===\")\n",
    "print(\"var1 \",var1)\n",
    "print(\"var2 \",var2)"
   ]
  },
  {
   "cell_type": "markdown",
   "metadata": {},
   "source": [
    "**Question 8:** Write a Python program to convert Celsius to Fahrenheit."
   ]
  },
  {
   "cell_type": "code",
   "execution_count": 13,
   "metadata": {},
   "outputs": [
    {
     "name": "stdout",
     "output_type": "stream",
     "text": [
      "Fahrenheit:  32.0\n"
     ]
    }
   ],
   "source": [
    "# Your code here\n",
    "celsius = 0\n",
    "fahrenheit = (celsius * 9/5) + 32\n",
    "print(\"Fahrenheit: \",fahrenheit)"
   ]
  },
  {
   "cell_type": "markdown",
   "metadata": {},
   "source": [
    "**Question 9:** Write a Python program to concatenate two strings."
   ]
  },
  {
   "cell_type": "code",
   "execution_count": 14,
   "metadata": {},
   "outputs": [
    {
     "name": "stdout",
     "output_type": "stream",
     "text": [
      "Hello World\n"
     ]
    }
   ],
   "source": [
    "# Your code here\n",
    "str1 = \"Hello\"\n",
    "str2 = \" World\"\n",
    "print(str1 + str2)"
   ]
  },
  {
   "cell_type": "markdown",
   "metadata": {},
   "source": [
    "**Question 10:** Write a Python program to check if a variable is of a specific data type."
   ]
  },
  {
   "cell_type": "code",
   "execution_count": 22,
   "metadata": {},
   "outputs": [
    {
     "name": "stdout",
     "output_type": "stream",
     "text": [
      "10 is a integer\n"
     ]
    }
   ],
   "source": [
    "# Your code here\n",
    "var = 10\n",
    "\n",
    "if isinstance(var, int):\n",
    "    print(f\"{var} is a integer\")\n",
    "else:\n",
    "    print(f\"{var} is not a integer\")"
   ]
  },
  {
   "cell_type": "markdown",
   "metadata": {},
   "source": [
    "## 3. Basic Operators (Arithmetic, Comparison, Logical)\n",
    "\n",
    "**Question 11:** Write a Python program to perform arithmetic operations: addition, subtraction, multiplication, and division."
   ]
  },
  {
   "cell_type": "code",
   "execution_count": 23,
   "metadata": {},
   "outputs": [
    {
     "name": "stdout",
     "output_type": "stream",
     "text": [
      "add  15\n",
      "sub  5\n",
      "multi  50\n",
      "div  2.0\n"
     ]
    }
   ],
   "source": [
    "# Your code here\n",
    "num1 = 10\n",
    "num2 = 5\n",
    "\n",
    "print(\"add \",num1+num2)\n",
    "print(\"sub \",num1-num2)\n",
    "print(\"multi \",num1*num2)\n",
    "print(\"div \",num1/num2)"
   ]
  },
  {
   "cell_type": "markdown",
   "metadata": {},
   "source": [
    "**Question 12:** Write a Python program to demonstrate comparison operators: equal to, not equal to, greater than, less than."
   ]
  },
  {
   "cell_type": "code",
   "execution_count": 24,
   "metadata": {},
   "outputs": [
    {
     "name": "stdout",
     "output_type": "stream",
     "text": [
      "Not equal\n",
      "Greater than\n"
     ]
    }
   ],
   "source": [
    "# Your code here\n",
    "num1 = 10\n",
    "num2 = 5\n",
    "\n",
    "if (num1 != num2):\n",
    "    print(\"Not equal\")\n",
    "if (num1 == num2):\n",
    "    print(\"Equal\")\n",
    "if (num1 > num2):\n",
    "    print(\"Greater than\")\n",
    "if (num1 < num2):\n",
    "    print(\"Less than\")"
   ]
  },
  {
   "cell_type": "markdown",
   "metadata": {},
   "source": [
    "**Question 13:** Write a Python program to demonstrate logical operators: and, or, not."
   ]
  },
  {
   "cell_type": "code",
   "execution_count": 25,
   "metadata": {},
   "outputs": [
    {
     "name": "stdout",
     "output_type": "stream",
     "text": [
      "One True\n"
     ]
    }
   ],
   "source": [
    "# Your code here\n",
    "bool1 = True\n",
    "bool2 = False\n",
    "\n",
    "if not bool1:\n",
    "    print(\"True\")\n",
    "if bool1 and bool2:\n",
    "    print(\"All True\")\n",
    "elif bool1 or bool2:\n",
    "    print(\"One True\")\n"
   ]
  },
  {
   "cell_type": "markdown",
   "metadata": {},
   "source": [
    "**Question 14:** Write a Python program to calculate the square of a number."
   ]
  },
  {
   "cell_type": "code",
   "execution_count": 26,
   "metadata": {},
   "outputs": [
    {
     "name": "stdout",
     "output_type": "stream",
     "text": [
      "Square of 2 is 4\n"
     ]
    }
   ],
   "source": [
    "# Your code here\n",
    "num = int(input(\"Enter number: \"))\n",
    "print(f\"Square of {num} is {num*num}\")"
   ]
  },
  {
   "cell_type": "markdown",
   "metadata": {},
   "source": [
    "**Question 15:** Write a Python program to check if a number is even or odd."
   ]
  },
  {
   "cell_type": "code",
   "execution_count": 27,
   "metadata": {},
   "outputs": [
    {
     "name": "stdout",
     "output_type": "stream",
     "text": [
      "Even\n"
     ]
    }
   ],
   "source": [
    "# Your code here\n",
    "num = int(input(\"Enter number: \"))\n",
    "if num%2 == 0:\n",
    "    print(\"Even\")\n",
    "else:\n",
    "    print(\"odd\")"
   ]
  },
  {
   "cell_type": "markdown",
   "metadata": {},
   "source": [
    "**Question 16:** Write a Python program to find the sum of the first n natural numbers."
   ]
  },
  {
   "cell_type": "code",
   "execution_count": 29,
   "metadata": {},
   "outputs": [
    {
     "name": "stdout",
     "output_type": "stream",
     "text": [
      "5 sum is 15\n"
     ]
    }
   ],
   "source": [
    "# Your code here\n",
    "def sum_natural(n):\n",
    "    if n == 0:\n",
    "        return 0\n",
    "    return n + sum_natural(n-1)\n",
    "\n",
    "n = int(input(\"Enter number: \"))\n",
    "print(f\"{n} sum is {sum_natural(n)}\")"
   ]
  },
  {
   "cell_type": "markdown",
   "metadata": {},
   "source": [
    "**Question 17:** Write a Python program to check if a year is a leap year."
   ]
  },
  {
   "cell_type": "code",
   "execution_count": 32,
   "metadata": {},
   "outputs": [
    {
     "name": "stdout",
     "output_type": "stream",
     "text": [
      "Year is Leap Year\n"
     ]
    }
   ],
   "source": [
    "# Your code here\n",
    "year = int(input(\"Enter year: \"))\n",
    "\n",
    "if (year%4 == 0 and year%100 != 0) or (year%400 == 0):\n",
    "    print(\"Year is Leap Year\")\n",
    "else:\n",
    "    print(\"Year is not leap\")"
   ]
  },
  {
   "cell_type": "markdown",
   "metadata": {},
   "source": [
    "**Question 18:** Write a Python program to reverse a string."
   ]
  },
  {
   "cell_type": "code",
   "execution_count": 34,
   "metadata": {},
   "outputs": [
    {
     "name": "stdout",
     "output_type": "stream",
     "text": [
      "Lara is reverese as araL\n"
     ]
    }
   ],
   "source": [
    "# Your code here\n",
    "str = \"Lara\"\n",
    "print(f\"{str} is reverese as {str[::-1]}\")"
   ]
  },
  {
   "cell_type": "markdown",
   "metadata": {},
   "source": [
    "**Question 19:** Write a Python program to check if a string is a palindrome."
   ]
  },
  {
   "cell_type": "code",
   "execution_count": 36,
   "metadata": {},
   "outputs": [
    {
     "name": "stdout",
     "output_type": "stream",
     "text": [
      "String is palindrome\n"
     ]
    }
   ],
   "source": [
    "# Your code here\n",
    "str = \"anna\"\n",
    "if (str == str[::-1]):\n",
    "    print(\"String is palindrome\")\n",
    "else:\n",
    "    print(\"String is not palindrome\")"
   ]
  },
  {
   "cell_type": "markdown",
   "metadata": {},
   "source": [
    "**Question 20:** Write a Python program to sort a list of numbers in ascending order."
   ]
  },
  {
   "cell_type": "code",
   "execution_count": 38,
   "metadata": {},
   "outputs": [
    {
     "name": "stdout",
     "output_type": "stream",
     "text": [
      "Sorted List is [1, 1, 3, 23, 44, 45, 66]\n"
     ]
    }
   ],
   "source": [
    "# Your code here\n",
    "num = [1,3,1,45,66,23,44]\n",
    "print(f\"Sorted List is {sorted(num)}\")"
   ]
  },
  {
   "cell_type": "code",
   "execution_count": null,
   "metadata": {},
   "outputs": [],
   "source": []
  }
 ],
 "metadata": {
  "kernelspec": {
   "display_name": "ml-course",
   "language": "python",
   "name": "python3"
  },
  "language_info": {
   "codemirror_mode": {
    "name": "ipython",
    "version": 3
   },
   "file_extension": ".py",
   "mimetype": "text/x-python",
   "name": "python",
   "nbconvert_exporter": "python",
   "pygments_lexer": "ipython3",
   "version": "3.10.0"
  }
 },
 "nbformat": 4,
 "nbformat_minor": 4
}
